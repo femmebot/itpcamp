{
 "cells": [
  {
   "cell_type": "code",
   "execution_count": 7,
   "metadata": {
    "collapsed": true
   },
   "outputs": [],
   "source": [
    "from collections import defaultdict\n",
    "from random import choice as rc\n",
    "from random import sample as rs\n",
    "import re"
   ]
  },
  {
   "cell_type": "code",
   "execution_count": 8,
   "metadata": {
    "collapsed": true
   },
   "outputs": [],
   "source": [
    "# Go to gutenberg.org and find a book you'd like to use\n",
    "# as your corpus. Save the plain text file as 'book.txt'.\n",
    "\n",
    "fileObj = open('book.txt', 'r')\n",
    "fileText = fileObj.read().lower() # note .lower()\n",
    "fileObj.close()"
   ]
  },
  {
   "cell_type": "code",
   "execution_count": 9,
   "metadata": {
    "collapsed": false
   },
   "outputs": [
    {
     "name": "stdout",
     "output_type": "stream",
     "text": [
      "219484\n",
      "['but', 'aye', 'poor', 'perhaps', 'then', 'answer', 'where', 'you', 'the', 'your']\n"
     ]
    }
   ],
   "source": [
    "# 1) tokenize the book\n",
    "\n",
    "tokens = re.findall(r\"\\b[a-zA-Z0-9']+\\b\", fileText)\n",
    "\n",
    "# Test our data...\n",
    "print len(tokens)\n",
    "print rs(tokens, 10)"
   ]
  },
  {
   "cell_type": "code",
   "execution_count": 16,
   "metadata": {
    "collapsed": false
   },
   "outputs": [
    {
     "name": "stdout",
     "output_type": "stream",
     "text": [
      "['ever', 'one', 'trying', 'a', 'missed', 'goin', 'a', 'on', 'he', 'hard', 'just', 'an', 'the', 'a', 'speaking', 'left', 'sitting', 'and', 'a', 'actuated', 'fearful', 'an', 'entirely', 'seen', 'gone', 'seated', 'brown', 'certainly', 'so', 'such', 'only', 'never', 'a', 'known', 'about', 'just', 'but', 'nothing', 'dogging', 'and', 'going', 'getting', 'thrown', 'going', 'in', 'not', 'concerned', 'a', 'by', 'a', 'as', 'bid', 'full', 'dismasted', 'every', 'almost', 'measuring', 'about', 'the', 'naturally', 'still', 'not', 'studying', 'a', 'all', 'intent', 'to', 'the', 'the', 'admitted', 'stopped', 'by', 'such', 'wakened', 'toiling', 'temporarily', 'by', 'surrounded', 'in', 'tucking', 'always', 'either', 'now', 'going', 'fearful', 'somewhat', 'recalled', 'hung', 'beheaded', 'a', 'therefore', 'studying', 'exposed', 'provided', 'at', 'inlaying', 'nearest', 'vomited', 'overwhelmed', 'most', 'now', 'a', 'now', 'now', 'at', 'a', 'to', 'a', 'digging', 'full', 'the', 'wont', 'a', 'carefully', 'the', 'too', 'dressed', 'born', 'heading', 'standing', 'lord', 'will', 'and', 'to', 'moreover', 'a', 'a', 'like', 'leaving', 'striving', 'an', 'passing', 'to', 'now', 'now', 'not', 'recognised', 'still', 'thus', 'helped', 'to', 'even', 'shot', 'gone']\n"
     ]
    }
   ],
   "source": [
    "# 2) Build n-gram model as a dictionary\n",
    "\n",
    "# NOTE: There are lots of ways to do this!\n",
    "# We could use sets instead of lists,\n",
    "# we could count the number of times each\n",
    "# word appears, and add weights based on\n",
    "# that, etc, etc, etc.\n",
    "\n",
    "nGramDict = defaultdict(list)\n",
    "\n",
    "for i in range(1, len(tokens)-1):\n",
    "    nGramDict[(tokens[i-1], tokens[i])].append(tokens[i+1])\n",
    "    \n",
    "# Test our data...\n",
    "print nGramDict[('he', 'was')]"
   ]
  },
  {
   "cell_type": "code",
   "execution_count": 28,
   "metadata": {
    "collapsed": false
   },
   "outputs": [
    {
     "name": "stdout",
     "output_type": "stream",
     "text": [
      "the whale once more dying here no no not one and all this to be and that the mystical brow is majestic human or animal the mystical cosmetic which produces every one that is going up to his last dying puff queequeg embraced me pressed his forehead the skeleton as it silently serpentines about the size of billiard balls the old flag ship once touched at that instant when he was such an insupportable smell as to lead the way of finding out precisely what the white man ideal mastership over every dusky tribe and though the forehead horizontally subdivide this upper quoin and then ascertaining the precise origin of tit bit is obvious pequod you will sometimes sail for france and were at times by its quick fanning motion temporarily taking the offered pen copied upon the dead lid of an indian moccasin there was an exceedingly laborious one is in spain as far off to it stiffly he's no more of a dreary street shouldering my bag and comparing the humped herds of whales and whirlpooles called balaene take up their anchors with that end yet in some subsequent scenes a curious and contradictory speculations regarding them especially concerning the precise origin of ambergris remained like amber itself a problem whether these gin and beer harpooneers so fuddled as one can without falling in the jaws of death floats on the world like a lima tower cutting my boat said starbuck in the world to solve them it the source of all these things are reciprocal the ball of arsacidean twine wandered eddied long amid its many winding shaded colonnades and arbours but soon an inkling of the three level radiating lances at their pump handles in full sail was almost intolerable it seemed that some time they have provided a system which for centuries past has been the masoned walled town of a herring or a half mutinous cry but dashing the rattling lightning links to the azores where the lines that were safety for worm like then oh god to sail out of his hands far down into the creamy pool to rescue whom he was a segment of the eternities it may be pitchpoled in the dance when the white flame but lights the case stubb as he calls that fun humph i save my ship but for that yet such vital strength yet lurked in the greenland whale and vice we try to ain't one limb enough what should i see the world right in the body would that i was again lowering her boats though the affair of oil and water are wedded for ever keep trimming boat oh ye foolish throw all these thunder heads overboard and by day they chanced to encounter though from the ship meantime ahab out of his invested form the peculiar practical virtues of his boots but queequeg is young man you'd better ship for tarshish there lurks perhaps a hitherto unheeded meaning here by this motion is peculiar to his memory by his own father's where in her say an extremely gentlemanlike sort of a borneo negro in summer are as freshets of blood that drove the spigot out of a king he is going to the becalmed or windbound mariner is the intensifying agent in things the more congenial to our glory but look sharp to them and their beards stiff with icicles they seemed to have befallen any one not fully acquainted with the sacred volumes was not much chance to cast them off meantime everything in the course of years by semiramis by porus by hannibal and by natur wery woracious yet i take it and was handed to queequeg the deliverance or rather yojo's touching the grand erie canal you must and the place where mine once he murmured yes there's the fruits of promotion now there's the story told of the accident look ye pudding heads should never grant premises how long hath he been a stone mason and also to be joint commanders at sea they first go off of a dauntless stander of mast heads macey the mate there holds ye to it and it did not deem it now they'll shake their tassels soon now would be more tolerable for that purpose your hat in one aggregate than the sharks while stubb and flask to the harem school and her bread and not to another one no no i must go with ye to it will be the mood it be for the trunk of the whale's jaw so wide a field thus variously accomplished and with almost no restrictions whatsoever you may pound that knot there as another current from the bed when from the window but it would depend upon it till they did not more spacious than the planed one so that it almost seemed that it was on this rock every one knows meditation and water are hostile that oil is nearly scentless the truth by referring the whole a clean conscience sitting inside the bars of a warm savory steam from the human look of his lantern to a bed more than all the attending harpooneers now stood with the floor the ceiling and there lay queequeg in his pocket a small figure sir look aloft cried starbuck that simply smote thee from him the report said peleg and bildad could attend to a grammar school the pale mate gloomily here it was as ugly gaping wound as surgeon ever saw especially as peter coffin's cock and bull story about the loss of his quest yet all were called to reef topsails all the people on deck and we duly met the solicitation requirements we know the slightest degree approaching to certainties concerning the very learned and most conspicuous object in view is to be caesar it is also dug up in it that old greek prometheus who made men they say they when cruising wholly neglect to heave and toss had wrought a somerset\n"
     ]
    }
   ],
   "source": [
    "# 3) Make generator function\n",
    "# NOTE: Again, here are lots of ways to do this!\n",
    "\n",
    "def generate(numWords, seed=rc(nGramDict.keys())):\n",
    "    if len(seed) != 2:\n",
    "        raise Exception(\"Exactly 2 seed tokens required!\")\n",
    "    w1, w2 = seed\n",
    "    result = list(seed)\n",
    "    for _ in range(numWords):\n",
    "        try:\n",
    "            w3 = rc( nGramDict[(w1, w2)] )\n",
    "        except IndexError:\n",
    "            raise Exception(\"Seed tokens not present in corpus!\")\n",
    "        result.append(w3)\n",
    "        w1, w2 = w2, w3 # Why do we need to do it this way?\n",
    "    return result\n",
    "        \n",
    "\n",
    "print ' '.join(generate(1000, seed=('the', 'whale')))"
   ]
  },
  {
   "cell_type": "code",
   "execution_count": null,
   "metadata": {
    "collapsed": true
   },
   "outputs": [],
   "source": [
    "# How do we decide what text to use?\n",
    "# How would we find where sentences begin and end?\n",
    "# Let's export this to a Python file so we can reuse this code..."
   ]
  },
  {
   "cell_type": "code",
   "execution_count": 29,
   "metadata": {
    "collapsed": true
   },
   "outputs": [],
   "source": [
    "# But first...\n",
    "\n",
    "with open('million_words.txt', 'w') as outfile:\n",
    "    outfile.write( ' '.join(generate(1000000, seed=('the', 'whale'))) )"
   ]
  }
 ],
 "metadata": {
  "kernelspec": {
   "display_name": "Python 2",
   "language": "python",
   "name": "python2"
  },
  "language_info": {
   "codemirror_mode": {
    "name": "ipython",
    "version": 2
   },
   "file_extension": ".py",
   "mimetype": "text/x-python",
   "name": "python",
   "nbconvert_exporter": "python",
   "pygments_lexer": "ipython2",
   "version": "2.7.8"
  }
 },
 "nbformat": 4,
 "nbformat_minor": 0
}
