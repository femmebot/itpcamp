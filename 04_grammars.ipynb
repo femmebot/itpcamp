{
 "cells": [
  {
   "cell_type": "code",
   "execution_count": 13,
   "metadata": {
    "collapsed": true
   },
   "outputs": [],
   "source": [
    "# This code shamelessly borred from Allison Parrish's R&WET GitHub repo:\n",
    "# https://github.com/aparrish/rwet-examples/tree/master/contextfree\n",
    "\n",
    "import random\n",
    "import json\n",
    "import pprint"
   ]
  },
  {
   "cell_type": "code",
   "execution_count": 6,
   "metadata": {
    "collapsed": true
   },
   "outputs": [],
   "source": [
    "def generate_list(grammar, axiom):\n",
    "    \"\"\"Generate a list of tokens from grammar, starting with axiom. The grammar\n",
    "       should take the form of a dictionary, mapping rules (strings) to lists\n",
    "       of expansions for those rules. Expansions will be split on whitespace.\n",
    "       Any token in the expansion that doesn't name a rule in the grammar will\n",
    "       be included in the expansion as-is.\"\"\"\n",
    "    s = list()\n",
    "    if axiom in grammar: # Termination condition\n",
    "        expansion = random.choice(grammar[axiom])\n",
    "        for token in expansion.split():\n",
    "            s.extend(generate_list(grammar, token)) # RECURSION!\n",
    "    else:\n",
    "        s.append(axiom)\n",
    "    return s"
   ]
  },
  {
   "cell_type": "code",
   "execution_count": 7,
   "metadata": {
    "collapsed": false
   },
   "outputs": [
    {
     "name": "stdout",
     "output_type": "stream",
     "text": [
      "Help on function generate_list in module __main__:\n",
      "\n",
      "generate_list(grammar, axiom)\n",
      "    Generate a list of tokens from grammar, starting with axiom. The grammar\n",
      "    should take the form of a dictionary, mapping rules (strings) to lists\n",
      "    of expansions for those rules. Expansions will be split on whitespace.\n",
      "    Any token in the expansion that doesn't name a rule in the grammar will\n",
      "    be included in the expansion as-is.\n",
      "\n"
     ]
    }
   ],
   "source": [
    "help(generate_list)"
   ]
  },
  {
   "cell_type": "code",
   "execution_count": 15,
   "metadata": {
    "collapsed": false
   },
   "outputs": [
    {
     "name": "stdout",
     "output_type": "stream",
     "text": [
      "{u'Adj': [u'bald',\n",
      "          u'smug',\n",
      "          u'important',\n",
      "          u'tame',\n",
      "          u'overstaffed',\n",
      "          u'luxurious',\n",
      "          u'blue'],\n",
      " u'Det': [u'this', u'that', u'the'],\n",
      " u'Interj': [u'oh,', u'my,', u'wow,', u'damn,'],\n",
      " u'N': [u'amoeba',\n",
      "        u'dichotomy',\n",
      "        u'seagull',\n",
      "        u'trombone',\n",
      "        u'corsage',\n",
      "        u'restaurant',\n",
      "        u'suburb'],\n",
      " u'NP': [u'Det N', u'Det N that VP', u'Det Adj N', u'Det N PP'],\n",
      " u'PP': [u'Prep NP'],\n",
      " u'Prep': [u'in', u'on', u'over', u'against'],\n",
      " u'S': [u'NP VP', u'Interj NP VP'],\n",
      " u'VP': [u'Vtrans NP', u'Vintr'],\n",
      " u'Vintr': [u'coughs',\n",
      "            u'daydreams',\n",
      "            u'whines',\n",
      "            u'slobbers',\n",
      "            u'vocalizes',\n",
      "            u'sneezes'],\n",
      " u'Vtrans': [u'computes',\n",
      "             u'examines',\n",
      "             u'foregrounds',\n",
      "             u'prefers',\n",
      "             u'interprets',\n",
      "             u'spins']}\n"
     ]
    }
   ],
   "source": [
    "grammarDict = json.load( open('test_grammar.json', 'r') )\n",
    "pprint.pprint(grammarDict)"
   ]
  },
  {
   "cell_type": "code",
   "execution_count": 17,
   "metadata": {
    "collapsed": false
   },
   "outputs": [
    {
     "name": "stdout",
     "output_type": "stream",
     "text": [
      "[u'this', u'restaurant', u'that', u'spins', u'this', u'restaurant', u'that', u'interprets', u'the', u'dichotomy', u'in', u'that', u'trombone', u'that', u'examines', u'that', u'suburb', u'that', u'whines', u'foregrounds', u'this', u'suburb', u'on', u'this', u'seagull', u'that', u'sneezes']\n"
     ]
    }
   ],
   "source": [
    "sentenceList = generate_list(grammarDict, 'S')\n",
    "print sentenceList"
   ]
  },
  {
   "cell_type": "code",
   "execution_count": 18,
   "metadata": {
    "collapsed": false
   },
   "outputs": [
    {
     "name": "stdout",
     "output_type": "stream",
     "text": [
      "This restaurant that spins this restaurant that interprets the dichotomy in that trombone that examines that suburb that whines foregrounds this suburb on this seagull that sneezes.\n"
     ]
    }
   ],
   "source": [
    "sentence = ' '.join(sentenceList)\n",
    "\n",
    "print sentence[0].upper() + sentence[1:] + \".\""
   ]
  }
 ],
 "metadata": {
  "kernelspec": {
   "display_name": "Python 2",
   "language": "python",
   "name": "python2"
  },
  "language_info": {
   "codemirror_mode": {
    "name": "ipython",
    "version": 2
   },
   "file_extension": ".py",
   "mimetype": "text/x-python",
   "name": "python",
   "nbconvert_exporter": "python",
   "pygments_lexer": "ipython2",
   "version": "2.7.8"
  }
 },
 "nbformat": 4,
 "nbformat_minor": 0
}
