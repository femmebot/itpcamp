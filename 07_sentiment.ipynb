{
 "cells": [
  {
   "cell_type": "code",
   "execution_count": 21,
   "metadata": {
    "collapsed": true
   },
   "outputs": [],
   "source": [
    "# We can import the code we wrote earlier\n",
    "# as its own library!\n",
    "from markov import generate, nGramDict\n",
    "from pattern.en import sentiment\n",
    "from random import choice as rc"
   ]
  },
  {
   "cell_type": "code",
   "execution_count": 22,
   "metadata": {
    "collapsed": false
   },
   "outputs": [
    {
     "name": "stdout",
     "output_type": "stream",
     "text": [
      "(-0.55, 0.9)\n",
      "[(['angry'], -0.5, 1.0, None), (['fucking'], -0.6, 0.8, 'profanity')]\n"
     ]
    }
   ],
   "source": [
    "sent = sentiment(\"He was so angry he ran furiously to the fucking store to spill all the milk.\")\n",
    "print sent\n",
    "print sent.assessments"
   ]
  },
  {
   "cell_type": "code",
   "execution_count": 34,
   "metadata": {
    "collapsed": false
   },
   "outputs": [
    {
     "name": "stdout",
     "output_type": "stream",
     "text": [
      "makings of men they said therefore captain ahab though but so awful derived a wondrous potency from the\n",
      "presumption but not so very bad that i ever heard of moby dick fired by the solemnity of\n",
      "your mahogany than you perhaps think for the chief mate had selected for his smoke is horrible to\n",
      "unsuspecting prey that his dreadful punishment is just forming in close ranks and battalions so that in an\n",
      "if dragged by fiends nothing was this nantucketer a vineyarder and the frequency with which the hated whale\n",
      "eyes then they change places with him in the life of man is elevated in that attitude fearful\n",
      "hour passed by ruthless hands and wakes with his nondescript provincialisms as a conceited ignoramus who had just\n",
      "a coward he has carried with him in that attitude fearful of breaking ere he rushes at the\n",
      "or paddling after the leviathan the awful chaldee of the brain ulloa's south america to fifty individuals each\n",
      "and picked me up men ye have been that is upon record that terrible that joyful hour i\n",
      "side and every one now knew the darkness of the whale's head jogged about very violently and gabriel\n",
      "a tandem of three clubbed handspikes on the whitened waters is horrible to him the report of daniel\n",
      "master and cruel remorseless emperor commands me that mr starbuck the chief mate before he commanded them to\n",
      "might as well kill both birds at once the divinest symbol of grim death and grinning devils and\n",
      "chattering his teeth meanwhile repeating a string for all his ivory leg stubb it's an awful and unspeakable\n",
      "had lost the miserable warping memories of his gods well well so be it then except after explanation\n",
      "drawn about our horrible oath in that case the stricken whale without at all to sailors oaths are\n",
      "the blacksmith himself did ignorantly conduct this burglar into his pantaloons as soon have falsified the evil portents\n",
      "charmed churned circle of the whitened waters is horrible to inhale and inhale it you never heard what\n",
      "awful water land there was also lying breathlessly still its commander from all sides menaced as we have\n",
      "5656\n"
     ]
    }
   ],
   "source": [
    "# Let's see if we can generate some\n",
    "# negative sentiment with markov chains...\n",
    "\n",
    "result = (0.0, 0.0)\n",
    "i = 0\n",
    "positive_list = []\n",
    "seed_candidates = nGramDict.keys()\n",
    "\n",
    "for _ in range(20):\n",
    "\n",
    "    while result[0] > -0.9:\n",
    "        seed_tup = rc(seed_candidates)\n",
    "        text = ' '.join(generate(16, seed=seed_tup))\n",
    "        result = sentiment(text)\n",
    "        i += 1\n",
    "        \n",
    "    positive_list.append(text)\n",
    "    result = (0.0, 0.0)\n",
    "    \n",
    "\n",
    "print '\\n'.join(positive_list)\n",
    "print i"
   ]
  },
  {
   "cell_type": "code",
   "execution_count": null,
   "metadata": {
    "collapsed": true
   },
   "outputs": [],
   "source": []
  }
 ],
 "metadata": {
  "kernelspec": {
   "display_name": "Python 2",
   "language": "python",
   "name": "python2"
  },
  "language_info": {
   "codemirror_mode": {
    "name": "ipython",
    "version": 2
   },
   "file_extension": ".py",
   "mimetype": "text/x-python",
   "name": "python",
   "nbconvert_exporter": "python",
   "pygments_lexer": "ipython2",
   "version": "2.7.8"
  }
 },
 "nbformat": 4,
 "nbformat_minor": 0
}
