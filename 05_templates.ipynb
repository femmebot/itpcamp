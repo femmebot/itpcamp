{
 "cells": [
  {
   "cell_type": "code",
   "execution_count": 16,
   "metadata": {
    "collapsed": true
   },
   "outputs": [],
   "source": [
    "# A simple template example...\n",
    "\n",
    "from string import Template\n",
    "from random import choice as rc"
   ]
  },
  {
   "cell_type": "code",
   "execution_count": 17,
   "metadata": {
    "collapsed": true
   },
   "outputs": [],
   "source": [
    "templateStr = \"$who $feels $what$punc\"\n",
    "template = Template(templateStr)"
   ]
  },
  {
   "cell_type": "code",
   "execution_count": 18,
   "metadata": {
    "collapsed": false
   },
   "outputs": [],
   "source": [
    "optsDict = {\n",
    "    \"who\": [\"Tim\", \"Eric\", \"Ross\", \"Susan\", \"Annie\", \"Lily\"],\n",
    "    \"what\": [\"kung pao\", \"chicken\", \"steak\", \"rice\", \"meat loaf\"],\n",
    "    \"punc\": [\"!\", \"?\", \".\"],\n",
    "    \"feels\": [\"likes\", \"hates\", \"loves\", \"dislikes\", \"is okay with\"]\n",
    "}"
   ]
  },
  {
   "cell_type": "code",
   "execution_count": 19,
   "metadata": {
    "collapsed": true
   },
   "outputs": [],
   "source": [
    "def generate():\n",
    "    replDict = {key:rc(optsDict[key]) for key in optsDict}\n",
    "    return template.substitute(**replDict) # What does '**' mean?"
   ]
  },
  {
   "cell_type": "code",
   "execution_count": 20,
   "metadata": {
    "collapsed": false
   },
   "outputs": [
    {
     "name": "stdout",
     "output_type": "stream",
     "text": [
      "Susan dislikes kung pao.\n",
      "Tim hates steak?\n",
      "Annie likes meat loaf?\n",
      "Annie is okay with steak!\n",
      "Annie likes kung pao.\n",
      "Tim is okay with chicken.\n",
      "Annie dislikes chicken.\n",
      "Susan dislikes chicken!\n",
      "Ross likes meat loaf?\n",
      "Ross hates chicken!\n"
     ]
    }
   ],
   "source": [
    "for _ in range(10):\n",
    "    print generate()"
   ]
  },
  {
   "cell_type": "code",
   "execution_count": null,
   "metadata": {
    "collapsed": true
   },
   "outputs": [],
   "source": []
  }
 ],
 "metadata": {
  "kernelspec": {
   "display_name": "Python 2",
   "language": "python",
   "name": "python2"
  },
  "language_info": {
   "codemirror_mode": {
    "name": "ipython",
    "version": 2
   },
   "file_extension": ".py",
   "mimetype": "text/x-python",
   "name": "python",
   "nbconvert_exporter": "python",
   "pygments_lexer": "ipython2",
   "version": "2.7.8"
  }
 },
 "nbformat": 4,
 "nbformat_minor": 0
}
