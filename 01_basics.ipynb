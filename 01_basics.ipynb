{
 "cells": [
  {
   "cell_type": "code",
   "execution_count": 1,
   "metadata": {
    "collapsed": false
   },
   "outputs": [
    {
     "name": "stdout",
     "output_type": "stream",
     "text": [
      "hello world!\n"
     ]
    }
   ],
   "source": [
    "# THIS IS A COMMENT\n",
    "# Comments begin with '#'\n",
    "# Everything else is executed.\n",
    "# (And in case you're wondering,\n",
    "# Python has no syntax for\n",
    "# multi-line comments.)\n",
    "\n",
    "# Whitespace is very important\n",
    "# in Python. Use spaces, not\n",
    "# tabs -- the interpreter relies\n",
    "# on identation to determine\n",
    "# where functions and other\n",
    "# statements end... more on\n",
    "# that in a bit.\n",
    "\n",
    "print \"hello world!\""
   ]
  },
  {
   "cell_type": "code",
   "execution_count": 5,
   "metadata": {
    "collapsed": false
   },
   "outputs": [
    {
     "name": "stdout",
     "output_type": "stream",
     "text": [
      "8\n",
      "2\n",
      "1\n",
      "15\n",
      "2\n",
      "fivethree\n",
      "fivefivefive\n"
     ]
    }
   ],
   "source": [
    "# Let's start with some simple math...\n",
    "\n",
    "print 5 + 3\n",
    "print 5 - 3\n",
    "print 5 * 3\n",
    "print 5 / 3.0 # Float bomb!\n",
    "print 5 % 3\n",
    "print \"five\" + \"three\"\n",
    "print \"five\" * 3"
   ]
  },
  {
   "cell_type": "code",
   "execution_count": 13,
   "metadata": {
    "collapsed": false
   },
   "outputs": [
    {
     "name": "stdout",
     "output_type": "stream",
     "text": [
      "5\n",
      "five\n",
      "5.5\n",
      "10.5 five 16.0\n",
      "16.0 five 10.5\n"
     ]
    }
   ],
   "source": [
    "# Variable declarations are implicit\n",
    "# and do not differ from reassignments\n",
    "\n",
    "x = 5\n",
    "y = \"five\"\n",
    "z = 5.5\n",
    "\n",
    "print x\n",
    "print y\n",
    "print z\n",
    "\n",
    "x = x + z\n",
    "z += x\n",
    "\n",
    "# We can print multiple values\n",
    "# on one line using tuple syntax.\n",
    "\n",
    "print x, y, z\n",
    "\n",
    "# This will be explained later...\n",
    "\n",
    "x, y, z = z, y, x\n",
    "\n",
    "print x, y, z"
   ]
  },
  {
   "cell_type": "code",
   "execution_count": 16,
   "metadata": {
    "collapsed": false
   },
   "outputs": [
    {
     "name": "stdout",
     "output_type": "stream",
     "text": [
      "x is greater than five!\n",
      "All Python variables have boolean values!\n",
      "False\n",
      "True\n"
     ]
    }
   ],
   "source": [
    "# If / else statements...\n",
    "\n",
    "if -5 <= x <= 5:\n",
    "    print \"x is between -5 and 5, exclusive!\"\n",
    "elif x > 5:\n",
    "    print \"x is greater than five!\"\n",
    "else:\n",
    "    print \"x is less than negative five!\"\n",
    "    \n",
    "# Boolean logic...\n",
    "\n",
    "b = False\n",
    "    \n",
    "if x or b:\n",
    "    print \"All Python variables have boolean values!\"\n",
    "else:\n",
    "    print \"Do you know why this won't print?\"\n",
    "\n",
    "print x and b\n",
    "print x and not b"
   ]
  },
  {
   "cell_type": "code",
   "execution_count": 18,
   "metadata": {
    "collapsed": false
   },
   "outputs": [
    {
     "name": "stdout",
     "output_type": "stream",
     "text": [
      "[] False 0\n",
      "[5, False, 5.5, '1337 h4x0rz'] True 4\n"
     ]
    }
   ],
   "source": [
    "# The mighty list...\n",
    "\n",
    "myList = []\n",
    "\n",
    "print myList, bool(myList), len(myList)"
   ]
  },
  {
   "cell_type": "code",
   "execution_count": null,
   "metadata": {
    "collapsed": true
   },
   "outputs": [],
   "source": [
    "myList.append(5)\n",
    "myList.append(False)\n",
    "myList.append(5.5)\n",
    "myList.append(\"1337 h4x0rz\")\n",
    "\n",
    "print myList, bool(myList), len(myList)"
   ]
  },
  {
   "cell_type": "code",
   "execution_count": null,
   "metadata": {
    "collapsed": true
   },
   "outputs": [],
   "source": [
    "popped = myList.pop()\n",
    "\n",
    "print popped, myList"
   ]
  },
  {
   "cell_type": "code",
   "execution_count": 19,
   "metadata": {
    "collapsed": false
   },
   "outputs": [
    {
     "name": "stdout",
     "output_type": "stream",
     "text": [
      "[5, False, 5.5, '1337 h4x0rz', 0, 1, 2, 3, 4, 5, 6, 7, 8, 9]\n",
      "1 9 5\n",
      "[5, False, 5.5, '1337 h4x0rz', 0]\n",
      "[1, 2, 3, 4, 5, 6, 7, 8, 9]\n",
      "['1337 h4x0rz', 0, 1, 2, 3]\n",
      "[9, 7, 5, 3, 1, '1337 h4x0rz', False]\n"
     ]
    }
   ],
   "source": [
    "myList += range(10)\n",
    "\n",
    "print myList\n",
    "print myList[5], myList[-1], myList[-5]\n",
    "print myList[:5]\n",
    "print myList[5:]\n",
    "print myList[3:8]\n",
    "print myList[::-2]"
   ]
  },
  {
   "cell_type": "code",
   "execution_count": 20,
   "metadata": {
    "collapsed": false
   },
   "outputs": [
    {
     "data": {
      "text/plain": [
       "'!dar gnikcuf os era secilS'"
      ]
     },
     "execution_count": 20,
     "metadata": {},
     "output_type": "execute_result"
    }
   ],
   "source": [
    "# Just about anything you can do to a list,\n",
    "# you can also do to a string b/c Python\n",
    "# treats strings like lists of characters.\n",
    "\n",
    "print \"Slices are so fucking rad!\"[::-1]"
   ]
  },
  {
   "cell_type": "code",
   "execution_count": 21,
   "metadata": {
    "collapsed": false
   },
   "outputs": [
    {
     "name": "stdout",
     "output_type": "stream",
     "text": [
      "5\n",
      "False\n",
      "5.5\n",
      "1337 h4x0rz\n",
      "0\n",
      "1\n",
      "2\n",
      "3\n",
      "4\n",
      "5\n",
      "6\n",
      "7\n",
      "8\n",
      "9\n",
      "0\n",
      "1\n",
      "2\n",
      "3\n",
      "4\n",
      "5\n",
      "6\n",
      "7\n",
      "8\n",
      "9\n",
      "10\n",
      "11\n",
      "12\n",
      "13\n"
     ]
    }
   ],
   "source": [
    "# Python for loops work like this...\n",
    "\n",
    "for item in myList:\n",
    "    print item\n",
    "    \n",
    "# If you want a C-style for loop...\n",
    "\n",
    "for i in range(len(myList)):\n",
    "    print i"
   ]
  },
  {
   "cell_type": "code",
   "execution_count": 38,
   "metadata": {
    "collapsed": false
   },
   "outputs": [
    {
     "name": "stdout",
     "output_type": "stream",
     "text": [
      "25\n",
      "25\n"
     ]
    }
   ],
   "source": [
    "# This is what a Python function looks like:\n",
    "\n",
    "def squared(x):\n",
    "    return x * x\n",
    "\n",
    "print squared(5)\n",
    "\n",
    "# Or this...\n",
    "\n",
    "sq = lambda x: x*x\n",
    "\n",
    "print sq(5)"
   ]
  },
  {
   "cell_type": "code",
   "execution_count": 35,
   "metadata": {
    "collapsed": false
   },
   "outputs": [
    {
     "name": "stdout",
     "output_type": "stream",
     "text": [
      "BMW\n",
      "315i Convertible\n",
      "12999.48\n",
      "5499.78\n",
      "1749.93\n"
     ]
    }
   ],
   "source": [
    "# This is what a Python class looks like:\n",
    "\n",
    "class Car(object):\n",
    "    def __init__(self, make, model, year, price, color):\n",
    "        self.make = make\n",
    "        self.model = model\n",
    "        self.year = year\n",
    "        self.price = price\n",
    "        self.color = color\n",
    "    def resale_value(self, current_year):\n",
    "        return 0.7 * self.price - (current_year - self.year) * 0.03 * self.price\n",
    "    \n",
    "myCar = Car(\"BMW\", \"315i Convertible\", 1994, 24999, \"black\")\n",
    "\n",
    "print myCar.make\n",
    "print myCar.model\n",
    "print myCar.resale_value(2000)\n",
    "print myCar.resale_value(2010)\n",
    "print myCar.resale_value(2015)"
   ]
  },
  {
   "cell_type": "code",
   "execution_count": 28,
   "metadata": {
    "collapsed": false
   },
   "outputs": [
    {
     "name": "stdout",
     "output_type": "stream",
     "text": [
      "24\n"
     ]
    }
   ],
   "source": [
    "# This is how you import functions or classes from libraries...\n",
    "\n",
    "from random import randint as ri\n",
    "\n",
    "print ri(-100,100)"
   ]
  },
  {
   "cell_type": "code",
   "execution_count": 39,
   "metadata": {
    "collapsed": false
   },
   "outputs": [
    {
     "name": "stdout",
     "output_type": "stream",
     "text": [
      "{}\n",
      "That's not your dict... yet.\n",
      "fizz buzz fizz you get the idea... time to move on\n",
      "[0, 1, 2, 3, 4, 5, 6, 7, 8, 9]\n",
      "['fizz', 'you get the idea...', 'fizz', 'buzz', 'fizz', 'you get the idea...', 'fizz', 'you get the idea...', 'fizz', 'buzz']\n"
     ]
    }
   ],
   "source": [
    "# The mighty dictionary!\n",
    "\n",
    "myDict = {}\n",
    "\n",
    "print myDict\n",
    "\n",
    "if not myDict:\n",
    "    print \"That's not your dict... yet.\"\n",
    "\n",
    "myDict[\"Maybe it's\"] = \"time to move on\"\n",
    "\n",
    "for i in range(100):\n",
    "    if not i % 2:\n",
    "        myDict[i] = \"fizz\"\n",
    "    elif not i % 3:\n",
    "        myDict[i] = \"buzz\"\n",
    "    else:\n",
    "        myDict[i] = \"you get the idea...\"\n",
    "\n",
    "print myDict[44], myDict[33], myDict[22], myDict[11], myDict[\"Maybe it's\"]\n",
    "\n",
    "print myDict.keys()[:10]\n",
    "\n",
    "print myDict.values()[:10]"
   ]
  },
  {
   "cell_type": "code",
   "execution_count": null,
   "metadata": {
    "collapsed": true
   },
   "outputs": [],
   "source": []
  }
 ],
 "metadata": {
  "kernelspec": {
   "display_name": "Python 2",
   "language": "python",
   "name": "python2"
  },
  "language_info": {
   "codemirror_mode": {
    "name": "ipython",
    "version": 2
   },
   "file_extension": ".py",
   "mimetype": "text/x-python",
   "name": "python",
   "nbconvert_exporter": "python",
   "pygments_lexer": "ipython2",
   "version": "2.7.8"
  }
 },
 "nbformat": 4,
 "nbformat_minor": 0
}
