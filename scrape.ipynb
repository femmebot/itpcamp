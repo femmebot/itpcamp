{
 "cells": [
  {
   "cell_type": "code",
   "execution_count": 44,
   "metadata": {
    "collapsed": true
   },
   "outputs": [],
   "source": [
    "import requests\n",
    "from bs4 import BeautifulSoup\n",
    "import time"
   ]
  },
  {
   "cell_type": "code",
   "execution_count": 45,
   "metadata": {
    "collapsed": true
   },
   "outputs": [],
   "source": [
    "def getText(idNo):\n",
    "    endPt = \"http://www.presidency.ucsb.edu/ws/index.php\"\n",
    "    payload = { \"pid\": idNo }\n",
    "    response = requests.get(endPt, params=payload)\n",
    "    soup = BeautifulSoup(response.text)\n",
    "    targets = soup.find_all(\"span\", class_=\"displaytext\")\n",
    "    if len(targets) > 1:\n",
    "        raise Exception(\"More than one displaytext span / pid %i\" % idNo)\n",
    "    elif not targets:\n",
    "        raise Exception(\"No displaytext span / pid %i\" % idNo)\n",
    "    else:\n",
    "        return targets[0]"
   ]
  },
  {
   "cell_type": "code",
   "execution_count": 47,
   "metadata": {
    "collapsed": false
   },
   "outputs": [
    {
     "name": "stdout",
     "output_type": "stream",
     "text": [
      "287.487042904\n"
     ]
    }
   ],
   "source": [
    "startTime = time.time()\n",
    "\n",
    "for i in range(1,3000):\n",
    "    try:\n",
    "        docText = str(getText(i))\n",
    "    except:\n",
    "        pass\n",
    "    else:\n",
    "        with open(\"docs/%i.txt\"%i, 'w') as outfile:\n",
    "            outfile.write(docText)\n",
    "\n",
    "endTime = time.time()\n",
    "\n",
    "print endTime - startTime"
   ]
  }
 ],
 "metadata": {
  "kernelspec": {
   "display_name": "Python 2",
   "language": "python",
   "name": "python2"
  },
  "language_info": {
   "codemirror_mode": {
    "name": "ipython",
    "version": 2
   },
   "file_extension": ".py",
   "mimetype": "text/x-python",
   "name": "python",
   "nbconvert_exporter": "python",
   "pygments_lexer": "ipython2",
   "version": "2.7.8"
  }
 },
 "nbformat": 4,
 "nbformat_minor": 0
}
